{
 "metadata": {
  "language_info": {
   "codemirror_mode": {
    "name": "ipython",
    "version": 3
   },
   "file_extension": ".py",
   "mimetype": "text/x-python",
   "name": "python",
   "nbconvert_exporter": "python",
   "pygments_lexer": "ipython3",
   "version": "3.8.5-final"
  },
  "orig_nbformat": 2,
  "kernelspec": {
   "name": "python3",
   "language": "python",
   "display_name": "Python 3"
  }
 },
 "nbformat": 4,
 "nbformat_minor": 2,
 "cells": [
  {
   "cell_type": "markdown",
   "metadata": {},
   "source": [
    "# A-01-01C: Understanding Datasets - SMUD Residential Rate Schedules"
   ]
  },
  {
   "cell_type": "markdown",
   "metadata": {},
   "source": [
    "## 1. Import Libraries required"
   ]
  },
  {
   "cell_type": "markdown",
   "metadata": {},
   "source": [
    "### 1.1 Basic Libraries"
   ]
  },
  {
   "cell_type": "code",
   "execution_count": 1,
   "metadata": {},
   "outputs": [],
   "source": [
    "import os\n",
    "import sys\n",
    "import importlib\n",
    "import pathlib as pl\n",
    "import vaex"
   ]
  },
  {
   "cell_type": "markdown",
   "metadata": {},
   "source": [
    "### 1.2 Additional Libraries used only in this script"
   ]
  },
  {
   "cell_type": "code",
   "execution_count": 2,
   "metadata": {},
   "outputs": [],
   "source": [
    "import re"
   ]
  },
  {
   "cell_type": "markdown",
   "metadata": {},
   "source": [
    "### 1.3 Load User-Written Libraries"
   ]
  },
  {
   "cell_type": "code",
   "execution_count": 3,
   "metadata": {},
   "outputs": [],
   "source": [
    "# # 1. To generate objects that will be used to load user-written libraries\n",
    "# ## Note: The numbers used below depend on the directory in which this script is\n",
    "cwd = pl.Path.cwd()\n",
    "path_project = cwd.parents[3]\n",
    "path_hd = cwd.parents[2]\n",
    "sys.path.append(str(path_hd))\n",
    "os.chdir(path_project)"
   ]
  },
  {
   "cell_type": "code",
   "execution_count": 4,
   "metadata": {},
   "outputs": [],
   "source": [
    "# # 2. To load user-written libraries\n",
    "HD = importlib.import_module('H-Energy-Demand-Analysis')\n",
    "FNC = importlib.import_module('F-Energy-Demand-Analysis_Common-Functions')\n",
    "DD = importlib.import_module('D-Energy-Demand-Analysis_Data-Dictionary')"
   ]
  },
  {
   "cell_type": "markdown",
   "metadata": {},
   "source": [
    "## 2. Set Path(s) and Parameter(s)"
   ]
  },
  {
   "cell_type": "markdown",
   "metadata": {},
   "source": [
    "### 2.1 Set Path(s)"
   ]
  },
  {
   "cell_type": "code",
   "execution_count": 5,
   "metadata": {},
   "outputs": [],
   "source": [
    "# # 1. Path(s) from which data file(s) will be loaded\n",
    "FILE_TO_LOAD_BILLING = 'SMUD_Billing-Data.parquet'\n",
    "PATH_TO_LOAD_BILLING = os.path.join(HD.PATH_DATA_INTERMEDIATE_SMUD_BILLING, FILE_TO_LOAD_BILLING)\n",
    "\n",
    "FILE_TO_LOAD_RRS = 'SMUD_Residential-Rate-Schedules.parquet'\n",
    "PATH_TO_LOAD_RRS = os.path.join(HD.PATH_DATA_INTERMEDIATE_SMUD_RRS, FILE_TO_LOAD_RRS)\n",
    "\n",
    "# # 2. Path(s) at which data file(s) will be saved\n",
    "# (NOT Applicable)"
   ]
  },
  {
   "cell_type": "markdown",
   "metadata": {},
   "source": [
    "### 2.2 Set Parameter(s)"
   ]
  },
  {
   "cell_type": "code",
   "execution_count": 6,
   "metadata": {},
   "outputs": [],
   "source": [
    "# # 0. Basic Parameters\n",
    "# # 0.1. Script Number\n",
    "SCRIPT_NO = 'A-01-01C'"
   ]
  },
  {
   "cell_type": "markdown",
   "metadata": {},
   "source": [
    "## 3. Details of Work"
   ]
  },
  {
   "cell_type": "code",
   "execution_count": 7,
   "metadata": {
    "tags": []
   },
   "outputs": [
    {
     "name": "stdout",
     "output_type": "stream",
     "text": [
      "2020-09-04 17:24:06 - Work begins: A-01-01C\n"
     ]
    }
   ],
   "source": [
    "FNC.printDt('Work begins: ' + SCRIPT_NO)"
   ]
  },
  {
   "cell_type": "markdown",
   "source": [
    "### 3.1. Load Dataset(s) required"
   ],
   "metadata": {
    "collapsed": false,
    "pycharm": {
     "name": "#%% md\n"
    }
   }
  },
  {
   "cell_type": "code",
   "execution_count": 8,
   "outputs": [],
   "source": [
    "billing_vx = vaex.open(PATH_TO_LOAD_BILLING)\n",
    "rrs_vx = vaex.open(PATH_TO_LOAD_RRS)"
   ],
   "metadata": {
    "collapsed": false,
    "pycharm": {
     "name": "#%%\n"
    }
   }
  },
  {
   "cell_type": "markdown",
   "source": [
    "### 3.2. Compare Lists of Rate Codes"
   ],
   "metadata": {
    "collapsed": false,
    "pycharm": {
     "name": "#%% md\n"
    }
   }
  },
  {
   "cell_type": "code",
   "execution_count": 9,
   "outputs": [
    {
     "name": "stdout",
     "output_type": "stream",
     "text": [
      "False\n",
      "True\n"
     ]
    }
   ],
   "source": [
    "print(len(billing_vx['rate_code'].unique()) == len(rrs_vx['rate_code'].unique()))\n",
    "print(len(billing_vx['rate_code'].unique()) > len(rrs_vx['rate_code'].unique()))"
   ],
   "metadata": {
    "collapsed": false,
    "pycharm": {
     "name": "#%%\n"
    }
   }
  },
  {
   "cell_type": "markdown",
   "source": [
    "The values of `False` and `True` imply that there are more rate codes in `billing_vx` than ones in `rrs_vx`."
   ],
   "metadata": {
    "collapsed": false,
    "pycharm": {
     "name": "#%% md\n"
    }
   }
  },
  {
   "cell_type": "code",
   "execution_count": 10,
   "outputs": [
    {
     "data": {
      "text/plain": "RSG        27274141\nRSGH        7473512\nRSE         6441273\nRSG_E       3745647\nRSGH_E      1750430\n             ...   \nRWC_L3           13\nRWE_L2            8\nRWG_E1            4\nRSC_EL2           4\nRSE_L2            3\nLength: 157, dtype: int64"
     },
     "execution_count": 10,
     "metadata": {},
     "output_type": "execute_result"
    }
   ],
   "source": [
    "billing_vx['rate_code'].value_counts()"
   ],
   "metadata": {
    "collapsed": false,
    "pycharm": {
     "name": "#%%\n"
    }
   }
  },
  {
   "cell_type": "markdown",
   "source": [
    "There are many rate codes that are NOT defined in SMUD's `Rate Code Definitions`."
   ],
   "metadata": {
    "collapsed": false,
    "pycharm": {
     "name": "#%% md\n"
    }
   }
  },
  {
   "cell_type": "code",
   "execution_count": 11,
   "outputs": [
    {
     "name": "stdout",
     "output_type": "stream",
     "text": [
      "80.4% of observations of Billing Data have rate codes that are also in Residential Rate Schedules.\n"
     ]
    }
   ],
   "source": [
    "list_codes_inRRS = list(rrs_vx['rate_code'].unique())\n",
    "select = billing_vx.rate_code.isin(list_codes_inRRS)\n",
    "N_select = billing_vx[select].shape[0]\n",
    "print('{0:,.1f}% of observations of Billing Data have rate codes that are also in Residential Rate Schedules.'.format(N_select / billing_vx.shape[0] * 100))"
   ],
   "metadata": {
    "collapsed": false,
    "pycharm": {
     "name": "#%%\n"
    }
   }
  },
  {
   "cell_type": "code",
   "execution_count": 12,
   "metadata": {
    "tags": []
   },
   "outputs": [
    {
     "name": "stdout",
     "output_type": "stream",
     "text": [
      "2020-09-04 17:24:10 - Work ends: A-01-01C\n"
     ]
    }
   ],
   "source": [
    "FNC.printDt('Work ends: ' + SCRIPT_NO)"
   ]
  }
 ]
}