{
 "metadata": {
  "language_info": {
   "codemirror_mode": {
    "name": "ipython",
    "version": 3
   },
   "file_extension": ".py",
   "mimetype": "text/x-python",
   "name": "python",
   "nbconvert_exporter": "python",
   "pygments_lexer": "ipython3",
   "version": "3.8.5-final"
  },
  "orig_nbformat": 2,
  "kernelspec": {
   "name": "python3",
   "language": "python",
   "display_name": "Python 3"
  }
 },
 "nbformat": 4,
 "nbformat_minor": 2,
 "cells": [
  {
   "cell_type": "code",
   "execution_count": 1,
   "metadata": {},
   "outputs": [],
   "source": [
    "import os\n",
    "import sys\n",
    "import importlib\n",
    "import pathlib as pl"
   ]
  },
  {
   "cell_type": "code",
   "execution_count": 2,
   "metadata": {
    "tags": []
   },
   "outputs": [
    {
     "output_type": "error",
     "ename": "AttributeError",
     "evalue": "module 'matplotlib' has no attribute 'font_manager'",
     "traceback": [
      "\u001B[0;31m---------------------------------------------------------------------------\u001B[0m",
      "\u001B[0;31mAttributeError\u001B[0m                            Traceback (most recent call last)",
      "\u001B[0;32m<ipython-input-2-2dd6f111aed3>\u001B[0m in \u001B[0;36m<module>\u001B[0;34m\u001B[0m\n\u001B[1;32m      1\u001B[0m \u001B[0;32mimport\u001B[0m \u001B[0mmatplotlib\u001B[0m\u001B[0;34m\u001B[0m\u001B[0;34m\u001B[0m\u001B[0m\n\u001B[0;32m----> 2\u001B[0;31m \u001B[0mmatplotlib\u001B[0m\u001B[0;34m.\u001B[0m\u001B[0mfont_manager\u001B[0m\u001B[0;34m.\u001B[0m\u001B[0m_rebuild\u001B[0m\u001B[0;34m(\u001B[0m\u001B[0;34m)\u001B[0m\u001B[0;34m\u001B[0m\u001B[0;34m\u001B[0m\u001B[0m\n\u001B[0m",
      "\u001B[0;31mAttributeError\u001B[0m: module 'matplotlib' has no attribute 'font_manager'"
     ]
    }
   ],
   "source": [
    "import matplotlib\n",
    "matplotlib.font_manager._rebuild()"
   ]
  },
  {
   "cell_type": "code",
   "execution_count": 3,
   "metadata": {
    "tags": []
   },
   "outputs": [],
   "source": [
    "import dask.dataframe as dd\n",
    "\n",
    "os.environ[\"MODIN_ENGINE\"] = \"ray\"\n",
    "import modin.pandas as pd\n",
    "\n",
    "import vaex\n",
    "\n",
    "import multiprocessing"
   ]
  },
  {
   "cell_type": "code",
   "execution_count": 4,
   "metadata": {
    "tags": []
   },
   "outputs": [],
   "source": [
    "test = vaex.example()"
   ]
  },
  {
   "cell_type": "code",
   "execution_count": 5,
   "metadata": {},
   "outputs": [
    {
     "output_type": "execute_result",
     "data": {
      "text/html": "<table>\n<thead>\n<tr><th>#                                  </th><th>id  </th><th>x                   </th><th>y                   </th><th>z                   </th><th>vx                 </th><th>vy                 </th><th>vz                 </th><th>E             </th><th>L                 </th><th>Lz                 </th><th>FeH                </th></tr>\n</thead>\n<tbody>\n<tr><td><i style='opacity: 0.6'>0</i>      </td><td>0   </td><td>1.2318683862686157  </td><td>-0.39692866802215576</td><td>-0.598057746887207  </td><td>301.1552734375     </td><td>174.05947875976562 </td><td>27.42754554748535  </td><td>-149431.40625 </td><td>407.38897705078125</td><td>333.9555358886719  </td><td>-1.0053852796554565</td></tr>\n<tr><td><i style='opacity: 0.6'>1</i>      </td><td>23  </td><td>-0.16370061039924622</td><td>3.654221296310425   </td><td>-0.25490644574165344</td><td>-195.00022888183594</td><td>170.47216796875    </td><td>142.5302276611328  </td><td>-124247.953125</td><td>890.2411499023438 </td><td>684.6676025390625  </td><td>-1.7086670398712158</td></tr>\n<tr><td><i style='opacity: 0.6'>2</i>      </td><td>32  </td><td>-2.120255947113037  </td><td>3.326052665710449   </td><td>1.7078403234481812  </td><td>-48.63423156738281 </td><td>171.6472930908203  </td><td>-2.079437255859375 </td><td>-138500.546875</td><td>372.2410888671875 </td><td>-202.17617797851562</td><td>-1.8336141109466553</td></tr>\n<tr><td><i style='opacity: 0.6'>3</i>      </td><td>8   </td><td>4.7155890464782715  </td><td>4.5852508544921875  </td><td>2.2515437602996826  </td><td>-232.42083740234375</td><td>-294.850830078125  </td><td>62.85865020751953  </td><td>-60037.0390625</td><td>1297.63037109375  </td><td>-324.6875          </td><td>-1.4786882400512695</td></tr>\n<tr><td><i style='opacity: 0.6'>4</i>      </td><td>16  </td><td>7.21718692779541    </td><td>11.99471664428711   </td><td>-1.064562201499939  </td><td>-1.6891745328903198</td><td>181.329345703125   </td><td>-11.333610534667969</td><td>-83206.84375  </td><td>1332.7989501953125</td><td>1328.948974609375  </td><td>-1.8570483922958374</td></tr>\n<tr><td>...                                </td><td>... </td><td>...                 </td><td>...                 </td><td>...                 </td><td>...                </td><td>...                </td><td>...                </td><td>...           </td><td>...               </td><td>...                </td><td>...                </td></tr>\n<tr><td><i style='opacity: 0.6'>329,995</i></td><td>21  </td><td>1.9938701391220093  </td><td>0.789276123046875   </td><td>0.22205990552902222 </td><td>-216.92990112304688</td><td>16.124420166015625 </td><td>-211.244384765625  </td><td>-146457.4375  </td><td>457.72247314453125</td><td>203.36758422851562 </td><td>-1.7451677322387695</td></tr>\n<tr><td><i style='opacity: 0.6'>329,996</i></td><td>25  </td><td>3.7180912494659424  </td><td>0.721337616443634   </td><td>1.6415337324142456  </td><td>-185.92160034179688</td><td>-117.25082397460938</td><td>-105.4986572265625 </td><td>-126627.109375</td><td>335.0025634765625 </td><td>-301.8370056152344 </td><td>-0.9822322130203247</td></tr>\n<tr><td><i style='opacity: 0.6'>329,997</i></td><td>14  </td><td>0.3688507676124573  </td><td>13.029608726501465  </td><td>-3.633934736251831  </td><td>-53.677146911621094</td><td>-145.15771484375   </td><td>76.70909881591797  </td><td>-84912.2578125</td><td>817.1375732421875 </td><td>645.8507080078125  </td><td>-1.7645612955093384</td></tr>\n<tr><td><i style='opacity: 0.6'>329,998</i></td><td>18  </td><td>-0.11259264498949051</td><td>1.4529125690460205  </td><td>2.168952703475952   </td><td>179.30865478515625 </td><td>205.79710388183594 </td><td>-68.75872802734375 </td><td>-133498.46875 </td><td>724.000244140625  </td><td>-283.6910400390625 </td><td>-1.8808952569961548</td></tr>\n<tr><td><i style='opacity: 0.6'>329,999</i></td><td>4   </td><td>20.796220779418945  </td><td>-3.331387758255005  </td><td>12.18841552734375   </td><td>42.69000244140625  </td><td>69.20479583740234  </td><td>29.54275131225586  </td><td>-65519.328125 </td><td>1843.07470703125  </td><td>1581.4151611328125 </td><td>-1.1231083869934082</td></tr>\n</tbody>\n</table>",
      "text/plain": "#        id    x                     y                     z                     vx                   vy                   vz                   E               L                   Lz                   FeH\n0        0     1.2318683862686157    -0.39692866802215576  -0.598057746887207    301.1552734375       174.05947875976562   27.42754554748535    -149431.40625   407.38897705078125  333.9555358886719    -1.0053852796554565\n1        23    -0.16370061039924622  3.654221296310425     -0.25490644574165344  -195.00022888183594  170.47216796875      142.5302276611328    -124247.953125  890.2411499023438   684.6676025390625    -1.7086670398712158\n2        32    -2.120255947113037    3.326052665710449     1.7078403234481812    -48.63423156738281   171.6472930908203    -2.079437255859375   -138500.546875  372.2410888671875   -202.17617797851562  -1.8336141109466553\n3        8     4.7155890464782715    4.5852508544921875    2.2515437602996826    -232.42083740234375  -294.850830078125    62.85865020751953    -60037.0390625  1297.63037109375    -324.6875            -1.4786882400512695\n4        16    7.21718692779541      11.99471664428711     -1.064562201499939    -1.6891745328903198  181.329345703125     -11.333610534667969  -83206.84375    1332.7989501953125  1328.948974609375    -1.8570483922958374\n...      ...   ...                   ...                   ...                   ...                  ...                  ...                  ...             ...                 ...                  ...\n329,995  21    1.9938701391220093    0.789276123046875     0.22205990552902222   -216.92990112304688  16.124420166015625   -211.244384765625    -146457.4375    457.72247314453125  203.36758422851562   -1.7451677322387695\n329,996  25    3.7180912494659424    0.721337616443634     1.6415337324142456    -185.92160034179688  -117.25082397460938  -105.4986572265625   -126627.109375  335.0025634765625   -301.8370056152344   -0.9822322130203247\n329,997  14    0.3688507676124573    13.029608726501465    -3.633934736251831    -53.677146911621094  -145.15771484375     76.70909881591797    -84912.2578125  817.1375732421875   645.8507080078125    -1.7645612955093384\n329,998  18    -0.11259264498949051  1.4529125690460205    2.168952703475952     179.30865478515625   205.79710388183594   -68.75872802734375   -133498.46875   724.000244140625    -283.6910400390625   -1.8808952569961548\n329,999  4     20.796220779418945    -3.331387758255005    12.18841552734375     42.69000244140625    69.20479583740234    29.54275131225586    -65519.328125   1843.07470703125    1581.4151611328125   -1.1231083869934082"
     },
     "metadata": {},
     "execution_count": 5
    }
   ],
   "source": [
    "test"
   ]
  },
  {
   "cell_type": "code",
   "execution_count": null,
   "metadata": {},
   "outputs": [],
   "source": [
    "# ------- To load user-written script(s) -------\n",
    "# # 1. To generate objects that will be used to load user-written script(s)\n",
    "# ## Note: The numbers used below depend on the directory in which this script is\n",
    "cwd = pl.Path.cwd()\n",
    "path_project = cwd.parents[3]\n",
    "path_hd = cwd.parents[2]"
   ]
  },
  {
   "cell_type": "code",
   "execution_count": null,
   "metadata": {},
   "outputs": [],
   "source": [
    "# # 2. To load user-written script(s)\n",
    "sys.path.append(str(path_hd))\n",
    "os.chdir(path_project)\n",
    "HD = importlib.import_module('H-Energy-Demand-Analysis')\n",
    "FNC = importlib.import_module('F-Energy-Demand-Analysis_Common-Functions_Modin')\n",
    "DD = importlib.import_module('D-Energy-Demand-Analysis_Data-Dictionary')"
   ]
  },
  {
   "cell_type": "code",
   "execution_count": null,
   "metadata": {},
   "outputs": [],
   "source": [
    "# ------- To set path(s) -------\n",
    "# # 1. Path to file(s) that will be loaded\n",
    "# # 1.1. Path of SMUD ID Data\n",
    "FILE_TO_LOAD_ID = 'SMUD_ID-Data.parquet'\n",
    "PATH_TO_LOAD_ID = os.path.join(HD.PATH_DATA_INTERMEDIATE_SMUD_BILLING, FILE_TO_LOAD_ID)\n",
    "# # 1.2. Path of SMUD Billing Data\n",
    "FILE_TO_LOAD_BIllING = 'SMUD_Billing-Data.parquet'\n",
    "PATH_TO_LOAD_BILLING = os.path.join(HD.PATH_DATA_INTERMEDIATE_SMUD_BILLING, FILE_TO_LOAD_BIllING)\n",
    "\n",
    "# # # 2. Path to file(s) that will be saved as Parquet format\n",
    "# (NOT Applicable)\n",
    "\n",
    "\n",
    "# ------- To set path(s) parameter(s) -------\n",
    "# # 0. Script Number\n",
    "SCRIPT_NO = 'A-01-01A'\n",
    "\n",
    "# # 1. To set parameters for Dask\n",
    "N_PARTITIONS = multiprocessing.cpu_count()"
   ]
  },
  {
   "cell_type": "code",
   "execution_count": null,
   "metadata": {
    "tags": []
   },
   "outputs": [],
   "source": [
    "# ------- To load necessary dataset(s) -------\n",
    "# # 1. SMUD ID Data\n",
    "smud_id = dd.read_parquet(PATH_TO_LOAD_ID)\n",
    "\n",
    "# # 2. SMUD Billing Data\n",
    "smud_billing = dd.read_parquet(PATH_TO_LOAD_BILLING)"
   ]
  },
  {
   "cell_type": "code",
   "execution_count": null,
   "metadata": {
    "tags": []
   },
   "outputs": [],
   "source": [
    "# ------- To get basic information about ID dataset -------\n",
    "# # 1. To look at the DF\n",
    "smud_id.head(10)"
   ]
  },
  {
   "cell_type": "code",
   "execution_count": null,
   "metadata": {
    "tags": []
   },
   "outputs": [],
   "source": [
    "# # 2. To check columnes' data types\n",
    "FNC.ddf_info(smud_id)"
   ]
  },
  {
   "cell_type": "code",
   "execution_count": null,
   "metadata": {},
   "outputs": [],
   "source": [
    "# # 3. To find primary keys of the DF\n",
    "# # 3.1. To check whether there are duplicated observations or not\n",
    "smud_id.shape[0].compute() == smud_id.drop_duplicates().shape[0].compute()\n",
    "# ## Note\n",
    "# ## : The value of \"True\" means that there is no duplicated observations."
   ]
  },
  {
   "cell_type": "code",
   "execution_count": null,
   "metadata": {},
   "outputs": [],
   "source": [
    "# # 3.2. To find primary keys\n",
    "list_cols_by = ['id_account', 'id_premise', 'rate_code_from_id', 'date_move_in', 'date_move_out'] \n",
    "test = smud_id.shape[0] == smud_id[list_cols_by].drop_duplicates().shape[0]\n",
    "test.compute()\n",
    "# ## Note\n",
    "# ## : The value of \"True\" implies that there is no duplicated observations given the columns."
   ]
  },
  {
   "cell_type": "code",
   "execution_count": null,
   "metadata": {},
   "outputs": [],
   "source": [
    "# ------- To understand about the ID dataset -------\n",
    "# # 1. To examine the relationship between `id_account` and `id_premise`\n",
    "# # 1.2. Multiple `id_premise`s to a `id_account`?\n",
    "list_cols_by = ['id_account', 'id_premise']\n",
    "tmp_df = smud_id[list_cols_by].drop_duplicates()\n",
    "test = tmp_df.shape[0] == tmp_df['id_account'].unique().size\n",
    "test.compute()\n",
    "# ## Note\n",
    "# ## : The value of \"False\" means that there are `id_account`s having multiple `id_premise`s. This result seem to imply that the `id_account`s moved (to different `id_premise`s) several times."
   ]
  },
  {
   "cell_type": "code",
   "execution_count": null,
   "metadata": {},
   "outputs": [],
   "source": [
    "# # 1.2. Multiple `id_account`s to a `id_premise`?\n",
    "list_cols_by = ['id_account', 'id_premise']\n",
    "tmp_df = smud_id[list_cols_by].drop_duplicates()\n",
    "test = tmp_df.shape[0] == tmp_df['id_premise'].unique().size\n",
    "test.compute()\n",
    "# ## Note\n",
    "# ## : The value of \"False\" means that there are `id_premise`s having multiple `id_account`s. And this result seem to imply that the `id_premise`s have different `id_account`s as its residents. "
   ]
  },
  {
   "cell_type": "code",
   "execution_count": null,
   "metadata": {},
   "outputs": [],
   "source": [
    "# # 2. To examine how `id_premise` is related to `type_house` and `zip` (and `city`)\n",
    "# # 2.1. Multiple `type_house`s to a `id_premise`?\n",
    "list_cols_by = ['id_premise', 'type_house']\n",
    "tmp_df = smud_id[list_cols_by].drop_duplicates()\n",
    "test = tmp_df.shape[0] == tmp_df['id_premise'].unique().size\n",
    "test.compute()\n",
    "# ## Note\n",
    "# ## : The value of \"False\" shows that several `id_premise`s have multiple `type_house`s."
   ]
  },
  {
   "cell_type": "code",
   "execution_count": null,
   "metadata": {},
   "outputs": [],
   "source": [
    "# # 2.2. Multiple `zip`s to a `id_premise`?\n",
    "list_cols_by = ['id_premise', 'zip']\n",
    "tmp_df = smud_id[list_cols_by].drop_duplicates()\n",
    "test = tmp_df.shape[0] == tmp_df['id_premise'].unique().size\n",
    "test.compute()\n",
    "# ## Note\n",
    "# ## : The value of \"True\" implies there is one-to-one relationship between `id_premise` and `zip`."
   ]
  },
  {
   "cell_type": "code",
   "execution_count": null,
   "metadata": {
    "tags": []
   },
   "outputs": [],
   "source": [
    "# # 2.2.1. Multiple `zip`s to a `city`?\n",
    "list_cols_by = ['city', 'zip']\n",
    "tmp_df = smud_id[list_cols_by].drop_duplicates()\n",
    "test = tmp_df.shape[0] == tmp_df['zip'].unique().size\n",
    "test.compute()\n",
    "# ## Note\n",
    "# ## : The value of \"False\" implies there are several `zip`s having multiple `city`s."
   ]
  },
  {
   "cell_type": "code",
   "execution_count": null,
   "metadata": {},
   "outputs": [],
   "source": [
    "# ## For further investigation\n",
    "grouped = tmp_df.groupby(['zip']).size()\n",
    "grouped[grouped > 1].compute()"
   ]
  },
  {
   "cell_type": "code",
   "execution_count": null,
   "metadata": {},
   "outputs": [],
   "source": [
    "list_zip = ['', '95652', '95683']\n",
    "select = tmp_df['zip'].apply(lambda row: row in list_zip)\n",
    "tmp_df[select].compute()\n",
    "# ## Note:\n",
    "# ## 1) \"AFB\" means \"Air Force Base\".\n",
    "# ## 2) Rancho Murieta is near Sloughhouse."
   ]
  },
  {
   "cell_type": "code",
   "execution_count": null,
   "metadata": {},
   "outputs": [],
   "source": [
    "select = smud_id.eval('date_move_out < date_move_in')\n",
    "smud_id[select].shape[0].compute()\n",
    "# ## Note\n",
    "# ## : This result shows that `date_move_out` >= `date_move_in` for all observations."
   ]
  },
  {
   "cell_type": "code",
   "execution_count": null,
   "metadata": {},
   "outputs": [],
   "source": [
    "# # 2. To examine how `is_in_isa` is related to `id_account` and `id_premise`\n",
    "# # 2.1. Multiple `is_in_isa`s in a `id_account`?\n",
    "list_cols_by = ['id_account', 'is_in_isa']\n",
    "tmp_df = smud_id[list_cols_by].drop_duplicates()\n",
    "test = tmp_df.shape[0] == tmp_df['id_account'].unique().size\n",
    "test.compute()\n",
    "# ## Note\n",
    "# ## : The value of \"True\" means that there is one-to-one relationship between `id_account` and `is_in_isa`, which indicating whether a customer is in \"ISA\" (Interim Service Agreement)."
   ]
  },
  {
   "cell_type": "code",
   "execution_count": null,
   "metadata": {},
   "outputs": [],
   "source": [
    "# # 2.2. Multiple `is_in_isa`s in a `id_premise`?\n",
    "list_cols_by = ['id_premise', 'is_in_isa']\n",
    "tmp_df = smud_id[list_cols_by].drop_duplicates()\n",
    "test = tmp_df.shape[0] == tmp_df['id_premise'].unique().size\n",
    "test.compute()\n",
    "# ## Note\n",
    "# ## : This value of \"False\" means that there are several `id_premise`s having multiple `is_in_isa`. "
   ]
  },
  {
   "cell_type": "code",
   "execution_count": null,
   "metadata": {
    "tags": []
   },
   "outputs": [],
   "source": [
    "# # 2.3. For further investigation\n",
    "# # 2.3.1. `id_account` having multiple `id_premise`s\n",
    "list_cols_by = ['id_account', 'id_premise']\n",
    "tmp_df = smud_id[list_cols_by].drop_duplicates().groupby(['id_account']).count()\n",
    "select = tmp_df[tmp_df['id_premise'] > 1].index\n",
    "print(smud_id.loc[select, 'is_in_isa'].value_counts().compute())\n",
    "print('\\n')\n",
    "\n",
    "# # 2.3.2. `id_account` having just a `id_premise`\n",
    "list_cols_by = ['id_account', 'id_premise']\n",
    "tmp_df = smud_id[list_cols_by].drop_duplicates().groupby(['id_account']).count()\n",
    "select = tmp_df[tmp_df['id_premise'] == 1].index\n",
    "print(smud_id.loc[select, 'is_in_isa'].value_counts().compute())"
   ]
  },
  {
   "cell_type": "code",
   "execution_count": null,
   "metadata": {
    "tags": []
   },
   "outputs": [],
   "source": [
    "# # 2.3.3. `id_premise` having multiple `id_account`s\n",
    "list_cols_by = ['id_account', 'id_premise']\n",
    "tmp_df = smud_id[list_cols_by].drop_duplicates().groupby(['id_premise']).count()\n",
    "select = tmp_df[tmp_df['id_account'] > 1].index\n",
    "print(smud_id.loc[select, 'is_in_isa'].value_counts().compute())\n",
    "print('\\n')\n",
    "\n",
    "# # 2.3.4. `id_premise` having just a `id_account`s\n",
    "list_cols_by = ['id_account', 'id_premise']\n",
    "tmp_df = smud_id[list_cols_by].drop_duplicates().groupby(['id_premise']).count()\n",
    "select = tmp_df[tmp_df['id_account'] == 1].index\n",
    "print(smud_id.loc[select, 'is_in_isa'].value_counts().compute())"
   ]
  },
  {
   "cell_type": "code",
   "execution_count": null,
   "metadata": {},
   "outputs": [],
   "source": [
    "# # 3. To examine the relationship between `type_house` and `is_in_isa`\n",
    "list_cols_by = ['type_house', 'is_in_isa']\n",
    "smud_id[list_cols_by].drop_duplicates().groupby(['type_house']).count().compute()\n",
    "# ## Note\n",
    "# ## : This result implies that both house types have different values of `is_in_isa`."
   ]
  }
 ]
}