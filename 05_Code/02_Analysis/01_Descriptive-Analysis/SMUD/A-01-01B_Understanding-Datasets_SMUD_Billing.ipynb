{
 "metadata": {
  "language_info": {
   "codemirror_mode": {
    "name": "ipython",
    "version": 3
   },
   "file_extension": ".py",
   "mimetype": "text/x-python",
   "name": "python",
   "nbconvert_exporter": "python",
   "pygments_lexer": "ipython3",
   "version": "3.8.5-final"
  },
  "orig_nbformat": 2,
  "kernelspec": {
   "name": "python3",
   "language": "python",
   "display_name": "Python 3"
  }
 },
 "nbformat": 4,
 "nbformat_minor": 2,
 "cells": [
  {
   "cell_type": "markdown",
   "metadata": {},
   "source": [
    "# A-01-01B: Understanding Datasets - SMUD Billing Data"
   ]
  },
  {
   "cell_type": "markdown",
   "metadata": {},
   "source": [
    "## 1. Import Libraries required"
   ]
  },
  {
   "cell_type": "markdown",
   "metadata": {},
   "source": [
    "### 1.1 Basic Libraries"
   ]
  },
  {
   "cell_type": "code",
   "execution_count": 1,
   "metadata": {},
   "outputs": [],
   "source": [
    "import os\n",
    "import sys\n",
    "import importlib\n",
    "import pathlib as pl\n",
    "import pandas as pd\n",
    "import dask.dataframe as dd\n",
    "import multiprocessing"
   ]
  },
  {
   "cell_type": "markdown",
   "metadata": {},
   "source": [
    "### 1.2 Additional Libraries used only in this script"
   ]
  },
  {
   "cell_type": "code",
   "execution_count": 2,
   "metadata": {},
   "outputs": [],
   "source": [
    "import re\n",
    "import numpy as np"
   ]
  },
  {
   "cell_type": "markdown",
   "metadata": {},
   "source": [
    "### 1.3 Load User-Written Libraries"
   ]
  },
  {
   "cell_type": "code",
   "execution_count": 3,
   "metadata": {},
   "outputs": [],
   "source": [
    "# # 1. To generate objects that will be used to load user-written libraries\n",
    "# ## Note: The numbers used below depend on the directory in which this script is\n",
    "cwd = pl.Path.cwd()\n",
    "path_project = cwd.parents[3]\n",
    "path_hd = cwd.parents[2]\n",
    "sys.path.append(str(path_hd))\n",
    "os.chdir(path_project)"
   ]
  },
  {
   "cell_type": "code",
   "execution_count": 4,
   "metadata": {},
   "outputs": [],
   "source": [
    "# # 2. To load user-written libraries\n",
    "HD = importlib.import_module('H-Energy-Demand-Analysis')\n",
    "FNC = importlib.import_module('F-Energy-Demand-Analysis_Common-Functions')\n",
    "DD = importlib.import_module('D-Energy-Demand-Analysis_Data-Dictionary')"
   ]
  },
  {
   "cell_type": "markdown",
   "metadata": {},
   "source": [
    "## 2. Set Path(s) and Parameter(s)"
   ]
  },
  {
   "cell_type": "markdown",
   "metadata": {},
   "source": [
    "### 2.1 Set Path(s)"
   ]
  },
  {
   "cell_type": "code",
   "execution_count": 5,
   "metadata": {},
   "outputs": [],
   "source": [
    "# # 1. Path(s) from which data file(s) will be loaded\n",
    "FILE_TO_LOAD = 'SMUD_Billing-Data.parquet'\n",
    "PATH_TO_LOAD = os.path.join(HD.PATH_DATA_INTERMEDIATE_SMUD_BILLING, FILE_TO_LOAD)\n",
    "\n",
    "# # 2. Path(s) at which data file(s) will be saved\n",
    "# (NOT Applicable)"
   ]
  },
  {
   "cell_type": "markdown",
   "metadata": {},
   "source": [
    "### 2.2 Set Parameter(s)"
   ]
  },
  {
   "cell_type": "code",
   "execution_count": 6,
   "metadata": {},
   "outputs": [],
   "source": [
    "# # 0. Basic Parameters\n",
    "# # 0.1. Script Number\n",
    "SCRIPT_NO = 'B-01-01B'\n",
    "# # 0.2. Parameter for Dask DF\n",
    "N_PARTITIONS = multiprocessing.cpu_count()"
   ]
  },
  {
   "cell_type": "markdown",
   "metadata": {},
   "source": [
    "## 3. Details of Work"
   ]
  },
  {
   "cell_type": "markdown",
   "source": [
    "### 3.1. Load Dataset(s) required"
   ],
   "metadata": {
    "collapsed": false,
    "pycharm": {
     "name": "#%% md\n"
    }
   }
  },
  {
   "cell_type": "code",
   "execution_count": 7,
   "metadata": {},
   "outputs": [],
   "source": [
    "smud_billing = dd.read_parquet(PATH_TO_LOAD)"
   ]
  },
  {
   "cell_type": "markdown",
   "source": [
    "### 3.2. Get Basic Information about the Dataset"
   ],
   "metadata": {
    "collapsed": false,
    "pycharm": {
     "name": "#%% md\n"
    }
   }
  },
  {
   "cell_type": "markdown",
   "source": [
    "#### 3.2.1. Check Data Types"
   ],
   "metadata": {
    "collapsed": false,
    "pycharm": {
     "name": "#%% md\n"
    }
   }
  },
  {
   "cell_type": "code",
   "execution_count": 8,
   "outputs": [
    {
     "name": "stdout",
     "output_type": "stream",
     "text": [
      "<class 'dask.dataframe.core.DataFrame'>\n",
      "Columns: 18 entries, id_account to id_bu_part\n",
      "dtypes: datetime64[ns](2), object(1), bool(1), float64(6), int32(7), int64(1)None\n",
      "\n",
      "\n",
      "id_account                     int32\n",
      "id_premise                     int32\n",
      "is_pv                           bool\n",
      "period_from           datetime64[ns]\n",
      "period_to             datetime64[ns]\n",
      "period_len                     int64\n",
      "rate_code                     object\n",
      "charge_fixed                 float64\n",
      "charge_variable              float64\n",
      "charge_total                 float64\n",
      "kwh_total                      int32\n",
      "kwh_t1                         int32\n",
      "charge_variable_t1           float64\n",
      "kwh_t2                         int32\n",
      "charge_variable_t2           float64\n",
      "kwh_t3                         int32\n",
      "charge_variable_t3           float64\n",
      "id_bu_part                     int32\n",
      "dtype: object\n",
      "\n",
      "\n"
     ]
    }
   ],
   "source": [
    "FNC.ddf_info(smud_billing)"
   ],
   "metadata": {
    "collapsed": false,
    "pycharm": {
     "name": "#%%\n"
    }
   }
  },
  {
   "cell_type": "markdown",
   "source": [
    "#### 3.2.2. Find Primary Keys of the Dataset"
   ],
   "metadata": {
    "collapsed": false,
    "pycharm": {
     "name": "#%% md\n"
    }
   }
  },
  {
   "cell_type": "code",
   "execution_count": 9,
   "outputs": [
    {
     "data": {
      "text/plain": "True"
     },
     "execution_count": 9,
     "metadata": {},
     "output_type": "execute_result"
    }
   ],
   "source": [
    "# # 1) Check whether there are duplicated observations or not\n",
    "test = smud_billing.shape[0] == smud_billing.drop_duplicates().shape[0]\n",
    "test.compute()"
   ],
   "metadata": {
    "collapsed": false,
    "pycharm": {
     "name": "#%%\n"
    }
   }
  },
  {
   "cell_type": "markdown",
   "source": [
    "The value of `True` means there are no duplicated observations."
   ],
   "metadata": {
    "collapsed": false,
    "pycharm": {
     "name": "#%% md\n"
    }
   }
  },
  {
   "cell_type": "code",
   "execution_count": 10,
   "outputs": [
    {
     "data": {
      "text/plain": "True"
     },
     "execution_count": 10,
     "metadata": {},
     "output_type": "execute_result"
    }
   ],
   "source": [
    "# # 2) Find Primary Keys\n",
    "list_cols_by \\\n",
    "    = ['id_account', 'id_premise', 'period_from', 'period_to', 'rate_code']\n",
    "test = smud_billing.shape[0] \\\n",
    "        == smud_billing[list_cols_by].drop_duplicates().shape[0]\n",
    "test.compute()"
   ],
   "metadata": {
    "collapsed": false,
    "pycharm": {
     "name": "#%%\n"
    }
   }
  },
  {
   "cell_type": "markdown",
   "source": [
    "The values of `True` implies that the five data fields consist of primary keys of the DF."
   ],
   "metadata": {
    "collapsed": false,
    "pycharm": {
     "name": "#%% md\n"
    }
   }
  },
  {
   "cell_type": "markdown",
   "source": [
    "### 3.3. Understand about the Dataset"
   ],
   "metadata": {
    "collapsed": false,
    "pycharm": {
     "name": "#%% md\n"
    }
   }
  },
  {
   "cell_type": "markdown",
   "source": [
    "#### 3.3.1. With respect to `period_from`, `period_to`, and `period_len`"
   ],
   "metadata": {
    "collapsed": false,
    "pycharm": {
     "name": "#%% md\n"
    }
   }
  },
  {
   "cell_type": "code",
   "execution_count": 11,
   "outputs": [
    {
     "data": {
      "text/plain": "True"
     },
     "execution_count": 11,
     "metadata": {},
     "output_type": "execute_result"
    }
   ],
   "source": [
    "# # 1) `period_from` <= `period_to`?\n",
    "test = smud_billing[smud_billing['period_len'] < 0].shape[0] == 0\n",
    "test.compute()"
   ],
   "metadata": {
    "collapsed": false,
    "pycharm": {
     "name": "#%%\n"
    }
   }
  },
  {
   "cell_type": "markdown",
   "source": [
    "The value of `True` demonstrates that `period_to` is greater than or equal to `period_from`."
   ],
   "metadata": {
    "collapsed": false,
    "pycharm": {
     "name": "#%% md\n"
    }
   }
  },
  {
   "cell_type": "code",
   "execution_count": 12,
   "outputs": [
    {
     "data": {
      "text/plain": "1999            1\n2000            2\n2001           11\n2002           11\n2003          194\n2004      536,087\n2005    6,067,969\n2006    6,159,068\n2007    6,200,358\n2008    6,272,764\n2009    6,283,470\n2010    6,320,658\n2011    6,334,873\n2012    6,380,214\n2013    5,942,169\ndtype: object"
     },
     "execution_count": 12,
     "metadata": {},
     "output_type": "execute_result"
    }
   ],
   "source": [
    "# # 2) Distributions of `period_from`, `period_to`, and `period_len`?\n",
    "smud_billing['period_from'].dt.year.value_counts(sort= False).apply('{0:,.0f}'.format, meta= ('period_from')).compute()"
   ],
   "metadata": {
    "collapsed": false,
    "pycharm": {
     "name": "#%%\n"
    }
   }
  },
  {
   "cell_type": "code",
   "execution_count": 13,
   "outputs": [
    {
     "data": {
      "text/plain": "2004       43,577\n2005    6,057,754\n2006    6,152,890\n2007    6,213,179\n2008    6,276,466\n2009    6,274,765\n2010    6,302,647\n2011    6,331,801\n2012    6,393,777\n2013    6,450,989\n2014            4\ndtype: object"
     },
     "execution_count": 13,
     "metadata": {},
     "output_type": "execute_result"
    }
   ],
   "source": [
    "smud_billing['period_to'].dt.year.value_counts(sort= False).apply('{0:,.0f}'.format, meta= ('period_to')).compute()"
   ],
   "metadata": {
    "collapsed": false,
    "pycharm": {
     "name": "#%%\n"
    }
   }
  },
  {
   "cell_type": "code",
   "execution_count": 14,
   "outputs": [
    {
     "data": {
      "text/plain": "count    56,497,849.0\nmean             29.0\nstd               6.2\nmin               0.0\n0%                0.0\n10%              28.0\n20%              28.0\n30%              28.0\n40%              29.0\n50%              29.0\n60%              30.0\n70%              30.0\n80%              31.0\n90%              32.0\nmax           3,269.0\ndtype: object"
     },
     "execution_count": 14,
     "metadata": {},
     "output_type": "execute_result"
    }
   ],
   "source": [
    "smud_billing['period_len'].describe(percentiles= list(np.linspace(0, 1, 10, endpoint= False))).apply('{0:,.1f}'.format, meta= ('period_len')).compute()"
   ],
   "metadata": {
    "collapsed": false,
    "pycharm": {
     "name": "#%%\n"
    }
   }
  },
  {
   "cell_type": "markdown",
   "source": [
    "The three tables above show:\n",
    " + Although there are observations before 2004 for `period_from`, there are no observations before 2004 for `period_to`.\n",
    " + There are observations having significantly long billing period.\n",
    " + There are observations with `period_len == 0`."
   ],
   "metadata": {
    "collapsed": false,
    "pycharm": {
     "name": "#%% md\n"
    }
   }
  },
  {
   "cell_type": "code",
   "execution_count": 15,
   "outputs": [],
   "source": [
    "# # 3) Overlapped periods?\n",
    "# ## Make temporary data fields\n",
    "smud_billing['tmp_id_account'] = smud_billing['id_account'].shift()\n",
    "smud_billing['tmp_id_premise'] = smud_billing['id_premise'].shift()\n",
    "smud_billing['tmp_period_to'] = smud_billing['period_to'].shift()\n"
   ],
   "metadata": {
    "collapsed": false,
    "pycharm": {
     "name": "#%%\n"
    }
   }
  },
  {
   "cell_type": "code",
   "execution_count": 16,
   "outputs": [
    {
     "data": {
      "text/plain": "123"
     },
     "execution_count": 16,
     "metadata": {},
     "output_type": "execute_result"
    }
   ],
   "source": [
    "# ## (Continued ...)\n",
    "smud_billing.query('period_from <= tmp_period_to & id_account == tmp_id_account & id_premise == tmp_id_premise').shape[0].compute()"
   ],
   "metadata": {
    "collapsed": false,
    "pycharm": {
     "name": "#%%\n"
    }
   }
  },
  {
   "cell_type": "markdown",
   "source": [
    "There are overlapped billing periods for customers having the same `id_account` and `id_premise`."
   ],
   "metadata": {
    "collapsed": false,
    "pycharm": {
     "name": "#%% md\n"
    }
   }
  },
  {
   "cell_type": "markdown",
   "source": [
    "#### 3.3.2. With respect to `charge_*`s and `kwh_*`s"
   ],
   "metadata": {
    "collapsed": false,
    "pycharm": {
     "name": "#%% md\n"
    }
   }
  },
  {
   "cell_type": "code",
   "execution_count": 17,
   "outputs": [
    {
     "data": {
      "text/plain": "2003            1\n2004      184,468\n2005    1,500,921\n2006    1,657,693\n2007    1,539,329\n2008    1,589,161\n2009    1,050,425\ndtype: object"
     },
     "execution_count": 17,
     "metadata": {},
     "output_type": "execute_result"
    }
   ],
   "source": [
    "# # 1) \"Tier 3\" exist?\n",
    "smud_billing.loc[smud_billing['charge_variable_t3'] > 0, 'period_from'].dt.year.value_counts(sort= False).apply('{0:,.0f}'.format, meta= ('period_from')).compute()"
   ],
   "metadata": {
    "collapsed": false,
    "pycharm": {
     "name": "#%%\n"
    }
   }
  },
  {
   "cell_type": "code",
   "execution_count": 18,
   "outputs": [
    {
     "data": {
      "text/plain": "2004        7,852\n2005    1,515,365\n2006    1,630,017\n2007    1,545,346\n2008    1,593,637\n2009    1,229,778\n2010            3\ndtype: object"
     },
     "execution_count": 18,
     "metadata": {},
     "output_type": "execute_result"
    }
   ],
   "source": [
    "# ## (Continued ...)\n",
    "smud_billing.loc[smud_billing['charge_variable_t3'] > 0, 'period_to'].dt.year.value_counts(sort= False).apply('{0:,.0f}'.format, meta= ('period_to')).compute()"
   ],
   "metadata": {
    "collapsed": false,
    "pycharm": {
     "name": "#%%\n"
    }
   }
  },
  {
   "cell_type": "code",
   "execution_count": 19,
   "outputs": [
    {
     "name": "stdout",
     "output_type": "stream",
     "text": [
      "1.65%\n"
     ]
    }
   ],
   "source": [
    "# # 2) Summation Checks\n",
    "select = smud_billing['charge_total'] == smud_billing['charge_fixed'] + smud_billing['charge_variable']\n",
    "N_hold = smud_billing[select].shape[0]\n",
    "N = smud_billing.shape[0]\n",
    "share_hold = N_hold / N * 100\n",
    "print('{0:,.2f}'.format(share_hold.compute()) + '%')"
   ],
   "metadata": {
    "collapsed": false,
    "pycharm": {
     "name": "#%%\n"
    }
   }
  },
  {
   "cell_type": "code",
   "execution_count": 20,
   "outputs": [
    {
     "name": "stdout",
     "output_type": "stream",
     "text": [
      "87.10%\n"
     ]
    }
   ],
   "source": [
    "# ## (Continued ...)\n",
    "select = smud_billing['charge_variable'] == smud_billing['charge_variable_t1'] + smud_billing['charge_variable_t2'] + smud_billing['charge_variable_t3']\n",
    "N_hold = smud_billing[select].shape[0]\n",
    "N = smud_billing.shape[0]\n",
    "share_hold = N_hold / N * 100\n",
    "print('{0:,.2f}'.format(share_hold.compute()) + '%')"
   ],
   "metadata": {
    "collapsed": false,
    "pycharm": {
     "name": "#%%\n"
    }
   }
  },
  {
   "cell_type": "code",
   "execution_count": 21,
   "outputs": [
    {
     "name": "stdout",
     "output_type": "stream",
     "text": [
      "99.96%\n"
     ]
    }
   ],
   "source": [
    "# ## (Continued ...)\n",
    "select = smud_billing['kwh_total'] == smud_billing['kwh_t1'] + smud_billing['kwh_t2'] + smud_billing['kwh_t3']\n",
    "N_hold = smud_billing[select].shape[0]\n",
    "N = smud_billing.shape[0]\n",
    "share_hold = N_hold / N * 100\n",
    "print('{0:,.2f}'.format(share_hold.compute()) + '%')"
   ],
   "metadata": {
    "collapsed": false,
    "pycharm": {
     "name": "#%%\n"
    }
   }
  },
  {
   "cell_type": "markdown",
   "source": [
    "The results shows several interesting points:\n",
    "+ The relationship `charge_total == charge_fixed + charge_variable` does NOT hold, except small number of observations.\n",
    "+ There are observation not to satisfy the relationship `charge_variable == charge_variable_t1 + charge_variable_t2 + charge_variable_t3`.\n",
    "+ The relationship `kwh_total == kwh_t1 + kwh_t2 + kwh_t3` generally holds.\n",
    "\n",
    "More study on how the amount of total charge is determined is necessary."
   ],
   "metadata": {
    "collapsed": false,
    "pycharm": {
     "name": "#%% md\n"
    }
   }
  },
  {
   "cell_type": "markdown",
   "metadata": {
    "tags": [],
    "pycharm": {
     "name": "#%% md\n"
    }
   },
   "source": [
    "#### 3.3.3. With respect to `id_bu_part`"
   ]
  },
  {
   "cell_type": "code",
   "execution_count": 22,
   "outputs": [
    {
     "data": {
      "text/plain": "True"
     },
     "execution_count": 22,
     "metadata": {},
     "output_type": "execute_result"
    }
   ],
   "source": [
    "list_cols_by = ['id_account', 'id_premise', 'rate_code']\n",
    "test = smud_billing[list_cols_by].drop_duplicates().shape[0] == smud_billing[list_cols_by + ['id_bu_part']].drop_duplicates().shape[0]\n",
    "test.compute()"
   ],
   "metadata": {
    "collapsed": false,
    "pycharm": {
     "name": "#%%\n"
    }
   }
  },
  {
   "cell_type": "markdown",
   "source": [
    "The value of `True` implies that `id_bu_part` is unique given `id_account`, `id_premise`, and `rate_code`."
   ],
   "metadata": {
    "collapsed": false,
    "pycharm": {
     "name": "#%% md\n"
    }
   }
  }
 ]
}